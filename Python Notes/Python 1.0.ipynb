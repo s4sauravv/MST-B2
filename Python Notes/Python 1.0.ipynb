{
 "cells": [
  {
   "cell_type": "code",
   "execution_count": 1,
   "id": "3b0eb108",
   "metadata": {},
   "outputs": [],
   "source": [
    "#AI/ML\n",
    "#Basics Python \n",
    "#Lets Start With Simple Expression\n",
    "#Boolean Expression"
   ]
  },
  {
   "cell_type": "code",
   "execution_count": 2,
   "id": "5ae98318",
   "metadata": {},
   "outputs": [],
   "source": [
    "#What is Keyword- Keyword is are special or reserved word the are recognised by python with some meaning\n",
    "#lets check how to check keywords:\n",
    "#lets see."
   ]
  },
  {
   "cell_type": "code",
   "execution_count": 3,
   "id": "8a8bcd3b",
   "metadata": {},
   "outputs": [],
   "source": [
    "import keyword\n"
   ]
  },
  {
   "cell_type": "code",
   "execution_count": 4,
   "id": "ed1b975e",
   "metadata": {},
   "outputs": [
    {
     "name": "stdout",
     "output_type": "stream",
     "text": [
      "['False', 'None', 'True', 'and', 'as', 'assert', 'async', 'await', 'break', 'class', 'continue', 'def', 'del', 'elif', 'else', 'except', 'finally', 'for', 'from', 'global', 'if', 'import', 'in', 'is', 'lambda', 'nonlocal', 'not', 'or', 'pass', 'raise', 'return', 'try', 'while', 'with', 'yield']\n"
     ]
    }
   ],
   "source": [
    "print(keyword.kwlist)"
   ]
  },
  {
   "cell_type": "code",
   "execution_count": 5,
   "id": "bcacf9f7",
   "metadata": {},
   "outputs": [],
   "source": [
    "#This all are the keyword in python which can we easlily remember while practicing."
   ]
  },
  {
   "cell_type": "code",
   "execution_count": 6,
   "id": "74c232ff",
   "metadata": {},
   "outputs": [],
   "source": [
    "#Lets start with  Boolean expression\n",
    "#what is boolean expression-Boolean express created with keywords like- and,or,not,True,False\n",
    "#lets se with examples."
   ]
  },
  {
   "cell_type": "code",
   "execution_count": 7,
   "id": "62518e81",
   "metadata": {},
   "outputs": [
    {
     "data": {
      "text/plain": [
       "False"
      ]
     },
     "execution_count": 7,
     "metadata": {},
     "output_type": "execute_result"
    }
   ],
   "source": [
    "True and False"
   ]
  },
  {
   "cell_type": "code",
   "execution_count": 8,
   "id": "a00f72cc",
   "metadata": {},
   "outputs": [
    {
     "data": {
      "text/plain": [
       "True"
      ]
     },
     "execution_count": 8,
     "metadata": {},
     "output_type": "execute_result"
    }
   ],
   "source": [
    "True and True"
   ]
  },
  {
   "cell_type": "code",
   "execution_count": 9,
   "id": "81b1d17e",
   "metadata": {},
   "outputs": [
    {
     "data": {
      "text/plain": [
       "True"
      ]
     },
     "execution_count": 9,
     "metadata": {},
     "output_type": "execute_result"
    }
   ],
   "source": [
    "True or False"
   ]
  },
  {
   "cell_type": "code",
   "execution_count": 10,
   "id": "66fd4a87",
   "metadata": {},
   "outputs": [],
   "source": [
    "#lets see the diffrence between and/or\n",
    "#and-और\n",
    "#or-या\n",
    "#i think you should understand.\n",
    "#lets see with other example"
   ]
  },
  {
   "cell_type": "code",
   "execution_count": 11,
   "id": "abc7c538",
   "metadata": {},
   "outputs": [
    {
     "data": {
      "text/plain": [
       "False"
      ]
     },
     "execution_count": 11,
     "metadata": {},
     "output_type": "execute_result"
    }
   ],
   "source": [
    "not True"
   ]
  },
  {
   "cell_type": "code",
   "execution_count": 12,
   "id": "7560e2c6",
   "metadata": {},
   "outputs": [
    {
     "data": {
      "text/plain": [
       "True"
      ]
     },
     "execution_count": 12,
     "metadata": {},
     "output_type": "execute_result"
    }
   ],
   "source": [
    "not False"
   ]
  },
  {
   "cell_type": "code",
   "execution_count": 13,
   "id": "c42e4a6e",
   "metadata": {},
   "outputs": [
    {
     "data": {
      "text/plain": [
       "True"
      ]
     },
     "execution_count": 13,
     "metadata": {},
     "output_type": "execute_result"
    }
   ],
   "source": [
    "True is True"
   ]
  },
  {
   "cell_type": "code",
   "execution_count": 14,
   "id": "22b888a5",
   "metadata": {},
   "outputs": [
    {
     "data": {
      "text/plain": [
       "False"
      ]
     },
     "execution_count": 14,
     "metadata": {},
     "output_type": "execute_result"
    }
   ],
   "source": [
    "True is False"
   ]
  },
  {
   "cell_type": "code",
   "execution_count": 15,
   "id": "cde83b88",
   "metadata": {},
   "outputs": [
    {
     "name": "stderr",
     "output_type": "stream",
     "text": [
      "<>:1: SyntaxWarning: \"is\" with a literal. Did you mean \"==\"?\n",
      "<>:1: SyntaxWarning: \"is\" with a literal. Did you mean \"==\"?\n",
      "/tmp/ipykernel_9837/4173413985.py:1: SyntaxWarning: \"is\" with a literal. Did you mean \"==\"?\n",
      "  'a' is 'b'\n"
     ]
    },
    {
     "data": {
      "text/plain": [
       "False"
      ]
     },
     "execution_count": 15,
     "metadata": {},
     "output_type": "execute_result"
    }
   ],
   "source": [
    "'a' is 'b'"
   ]
  },
  {
   "cell_type": "code",
   "execution_count": 16,
   "id": "2f7a8cf9",
   "metadata": {},
   "outputs": [],
   "source": [
    "#lets know one more thing\n",
    "#True=1\n",
    "#False=0"
   ]
  },
  {
   "cell_type": "code",
   "execution_count": 17,
   "id": "2461adde",
   "metadata": {},
   "outputs": [
    {
     "data": {
      "text/plain": [
       "2"
      ]
     },
     "execution_count": 17,
     "metadata": {},
     "output_type": "execute_result"
    }
   ],
   "source": [
    "True + True"
   ]
  },
  {
   "cell_type": "code",
   "execution_count": 18,
   "id": "dcc81b7b",
   "metadata": {},
   "outputs": [
    {
     "data": {
      "text/plain": [
       "1"
      ]
     },
     "execution_count": 18,
     "metadata": {},
     "output_type": "execute_result"
    }
   ],
   "source": [
    "True + False"
   ]
  },
  {
   "cell_type": "code",
   "execution_count": 19,
   "id": "f24a9410",
   "metadata": {},
   "outputs": [
    {
     "data": {
      "text/plain": [
       "0"
      ]
     },
     "execution_count": 19,
     "metadata": {},
     "output_type": "execute_result"
    }
   ],
   "source": [
    "False + False"
   ]
  },
  {
   "cell_type": "code",
   "execution_count": 20,
   "id": "8bf1d325",
   "metadata": {},
   "outputs": [
    {
     "data": {
      "text/plain": [
       "0"
      ]
     },
     "execution_count": 20,
     "metadata": {},
     "output_type": "execute_result"
    }
   ],
   "source": [
    "False - False"
   ]
  },
  {
   "cell_type": "code",
   "execution_count": 21,
   "id": "7c168da5",
   "metadata": {},
   "outputs": [
    {
     "data": {
      "text/plain": [
       "-1"
      ]
     },
     "execution_count": 21,
     "metadata": {},
     "output_type": "execute_result"
    }
   ],
   "source": [
    "False-True"
   ]
  },
  {
   "cell_type": "code",
   "execution_count": 22,
   "id": "cd9e20b8",
   "metadata": {},
   "outputs": [],
   "source": [
    "#lets know one more thing\n",
    "# (is)  and  (==) is same        == Means eqaul to"
   ]
  },
  {
   "cell_type": "code",
   "execution_count": 23,
   "id": "6c08e884",
   "metadata": {},
   "outputs": [
    {
     "data": {
      "text/plain": [
       "True"
      ]
     },
     "execution_count": 23,
     "metadata": {},
     "output_type": "execute_result"
    }
   ],
   "source": [
    "10<=10"
   ]
  },
  {
   "cell_type": "code",
   "execution_count": 24,
   "id": "01ba3785",
   "metadata": {},
   "outputs": [
    {
     "data": {
      "text/plain": [
       "True"
      ]
     },
     "execution_count": 24,
     "metadata": {},
     "output_type": "execute_result"
    }
   ],
   "source": [
    "10==10"
   ]
  },
  {
   "cell_type": "code",
   "execution_count": 25,
   "id": "00e64b00",
   "metadata": {},
   "outputs": [
    {
     "data": {
      "text/plain": [
       "True"
      ]
     },
     "execution_count": 25,
     "metadata": {},
     "output_type": "execute_result"
    }
   ],
   "source": [
    "True and False or True"
   ]
  },
  {
   "cell_type": "code",
   "execution_count": 26,
   "id": "933641a7",
   "metadata": {},
   "outputs": [],
   "source": [
    "#This all are the simple expression in boolean"
   ]
  },
  {
   "cell_type": "code",
   "execution_count": 27,
   "id": "d5db0333",
   "metadata": {},
   "outputs": [],
   "source": [
    "#lets know about Data Types\n",
    "#Data Types\n",
    "# 1- Numbers/Integer\n",
    "# 2-String\n",
    "# 3-List\n",
    "# 4-Tuple\n",
    "# 5-Set\n",
    "# 6-Dictionary\n",
    "\n",
    "\n",
    "\n",
    "\n",
    "\n",
    "#Lets Start with Numbers"
   ]
  },
  {
   "cell_type": "code",
   "execution_count": 28,
   "id": "66c07d11",
   "metadata": {},
   "outputs": [],
   "source": [
    "x=20"
   ]
  },
  {
   "cell_type": "code",
   "execution_count": 29,
   "id": "ebca8798",
   "metadata": {},
   "outputs": [],
   "source": [
    "# x is variable\n",
    "# 20 is Data\n",
    "# How to check datatype.\n",
    "#lets see.\n"
   ]
  },
  {
   "cell_type": "code",
   "execution_count": 30,
   "id": "de9380c0",
   "metadata": {},
   "outputs": [
    {
     "data": {
      "text/plain": [
       "int"
      ]
     },
     "execution_count": 30,
     "metadata": {},
     "output_type": "execute_result"
    }
   ],
   "source": [
    "type(x)"
   ]
  },
  {
   "cell_type": "code",
   "execution_count": 31,
   "id": "818a50e7",
   "metadata": {},
   "outputs": [],
   "source": [
    "#Now See Float numbers\n",
    "#Float number is which number they have decimels \n",
    "#like , see example\n"
   ]
  },
  {
   "cell_type": "code",
   "execution_count": 32,
   "id": "0cf8dc4b",
   "metadata": {},
   "outputs": [],
   "source": [
    "x=20.2"
   ]
  },
  {
   "cell_type": "code",
   "execution_count": 33,
   "id": "c7f9eab2",
   "metadata": {},
   "outputs": [
    {
     "data": {
      "text/plain": [
       "20.2"
      ]
     },
     "execution_count": 33,
     "metadata": {},
     "output_type": "execute_result"
    }
   ],
   "source": [
    "x"
   ]
  },
  {
   "cell_type": "code",
   "execution_count": 34,
   "id": "dccb86ea",
   "metadata": {},
   "outputs": [
    {
     "data": {
      "text/plain": [
       "float"
      ]
     },
     "execution_count": 34,
     "metadata": {},
     "output_type": "execute_result"
    }
   ],
   "source": [
    "type(x)"
   ]
  },
  {
   "cell_type": "code",
   "execution_count": 35,
   "id": "63e425be",
   "metadata": {},
   "outputs": [],
   "source": [
    "#lets do small mathematical operation."
   ]
  },
  {
   "cell_type": "code",
   "execution_count": 36,
   "id": "5968fee9",
   "metadata": {},
   "outputs": [],
   "source": [
    "x=2+2"
   ]
  },
  {
   "cell_type": "code",
   "execution_count": 37,
   "id": "c1de383a",
   "metadata": {},
   "outputs": [
    {
     "data": {
      "text/plain": [
       "4"
      ]
     },
     "execution_count": 37,
     "metadata": {},
     "output_type": "execute_result"
    }
   ],
   "source": [
    "x"
   ]
  },
  {
   "cell_type": "code",
   "execution_count": 38,
   "id": "0e003fe2",
   "metadata": {},
   "outputs": [],
   "source": [
    "#lets see another example"
   ]
  },
  {
   "cell_type": "code",
   "execution_count": 39,
   "id": "99aba707",
   "metadata": {},
   "outputs": [],
   "source": [
    "a=44\n",
    "b=22"
   ]
  },
  {
   "cell_type": "code",
   "execution_count": 40,
   "id": "502ba468",
   "metadata": {},
   "outputs": [],
   "source": [
    "c=a+b"
   ]
  },
  {
   "cell_type": "code",
   "execution_count": 41,
   "id": "8b5c970a",
   "metadata": {},
   "outputs": [
    {
     "data": {
      "text/plain": [
       "66"
      ]
     },
     "execution_count": 41,
     "metadata": {},
     "output_type": "execute_result"
    }
   ],
   "source": [
    "c"
   ]
  },
  {
   "cell_type": "code",
   "execution_count": 42,
   "id": "2311bfaf",
   "metadata": {},
   "outputs": [
    {
     "name": "stdout",
     "output_type": "stream",
     "text": [
      "132\n"
     ]
    }
   ],
   "source": [
    "print(c*2)"
   ]
  },
  {
   "cell_type": "code",
   "execution_count": 45,
   "id": "445ea4a6",
   "metadata": {},
   "outputs": [],
   "source": [
    "#AI/ML Engineer-Saurav\n",
    "#Date-7 may 2024\n",
    "#Time- 11:08\n"
   ]
  },
  {
   "cell_type": "code",
   "execution_count": null,
   "id": "ceb2f0d7-c65b-485b-8ea2-c11c8fe76c47",
   "metadata": {},
   "outputs": [],
   "source": []
  },
  {
   "cell_type": "code",
   "execution_count": null,
   "id": "bcd49332-5437-4119-a1bb-dbc596319b70",
   "metadata": {},
   "outputs": [],
   "source": []
  },
  {
   "cell_type": "code",
   "execution_count": null,
   "id": "ebad86a5-4f11-442c-bc70-f0f31b7c19a9",
   "metadata": {},
   "outputs": [],
   "source": []
  }
 ],
 "metadata": {
  "kernelspec": {
   "display_name": "Python 3 (ipykernel)",
   "language": "python",
   "name": "python3"
  },
  "language_info": {
   "codemirror_mode": {
    "name": "ipython",
    "version": 3
   },
   "file_extension": ".py",
   "mimetype": "text/x-python",
   "name": "python",
   "nbconvert_exporter": "python",
   "pygments_lexer": "ipython3",
   "version": "3.10.12"
  },
  "widgets": {
   "application/vnd.jupyter.widget-state+json": {
    "state": {},
    "version_major": 2,
    "version_minor": 0
   }
  }
 },
 "nbformat": 4,
 "nbformat_minor": 5
}
