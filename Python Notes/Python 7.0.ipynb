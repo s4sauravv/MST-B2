{
 "cells": [
  {
   "cell_type": "code",
   "execution_count": 1,
   "id": "7922554d",
   "metadata": {},
   "outputs": [],
   "source": [
    "\n",
    "# Today We are learning about OOPS Concept - Object Oriented Programming\n",
    "# What is Object Oriented Programming ? Solving a problem by  creating objects is one of the most \n",
    "# populer approaches in programming this is call object oriented programming.\n",
    "\n",
    "# Real Time Example -Imagine you are opening a bank account and you fill the most of your personel \n",
    "# information .Age,UserName,City,phone number gmail id etc.\n",
    "# Once you fill all your information and it will register with  bank whwnever you want to check your\n",
    "# personel informationyou click on personel tab,your name,last_name,account number city etc will be\n",
    "# displayed\n",
    "\n",
    "#whenever you want to deposit or withdrawl money you click other tabs.\n",
    "\n"
   ]
  },
  {
   "cell_type": "code",
   "execution_count": 2,
   "id": "b2b58336",
   "metadata": {},
   "outputs": [],
   "source": [
    "# So here\n",
    "# Bank Account is your class\n",
    "# __init__(self) will register your details with bank\n",
    "# self will help you to get your respective details back when you click various tab.\n",
    "# log in personel information and password chnage, withdrwl are methods. "
   ]
  },
  {
   "cell_type": "code",
   "execution_count": 3,
   "id": "98993e57",
   "metadata": {},
   "outputs": [],
   "source": [
    "# How to define a class - suppose we want to create a class , named person as a prototype a sort of \n",
    "# template for any number of \"person\" object (instances)\n",
    "\n",
    "# The following python syntax define a class\n",
    "# class ClassName(base_class):\n",
    "#          statements\n",
    "\n",
    "\n",
    "#Remember one thing class name should always be in uppercase (its nameing convention)\n"
   ]
  },
  {
   "cell_type": "code",
   "execution_count": 4,
   "id": "5e8af377",
   "metadata": {},
   "outputs": [],
   "source": [
    "# Why we taking a class name in uppercase ? because there are two methods 1-pascal case, 2- camel case\n",
    "#  Pascal Case -  Example- EmployeesName - what we do here , we have to write first letter in Capital letter\n",
    "# and when we start a second word we again start from capital letter.\n",
    "\n",
    "# Camel case- Example-Employeename - what we do here . we have to write only first letter in in capital\n",
    "# and other word in small . this is known as camel case . and its using in oops concepts"
   ]
  },
  {
   "cell_type": "code",
   "execution_count": 5,
   "id": "006aa1ba",
   "metadata": {},
   "outputs": [],
   "source": [
    "# What is __init__(self)? is a constructor initialize your details with google.\n",
    "\n",
    "#Lets see with example."
   ]
  },
  {
   "cell_type": "code",
   "execution_count": 6,
   "id": "21174358",
   "metadata": {},
   "outputs": [],
   "source": [
    "class Account:\n",
    "    def __init__(self,name,last_name,city,user_id,password,phone): #attribute/arguments\n",
    "        self.name=name\n",
    "        self.last_name=last_name\n",
    "        self.city=city\n",
    "        self.user_id=user_id\n",
    "        self.password=password\n",
    "        self.phone=phone"
   ]
  },
  {
   "cell_type": "code",
   "execution_count": null,
   "id": "8e6da63e",
   "metadata": {},
   "outputs": [],
   "source": []
  },
  {
   "cell_type": "code",
   "execution_count": 7,
   "id": "f012b33d",
   "metadata": {},
   "outputs": [],
   "source": [
    "#Lets see with real time example:\n"
   ]
  },
  {
   "cell_type": "code",
   "execution_count": 8,
   "id": "e9eeb0eb",
   "metadata": {},
   "outputs": [
    {
     "ename": "KeyboardInterrupt",
     "evalue": "Interrupted by user",
     "output_type": "error",
     "traceback": [
      "\u001b[0;31m---------------------------------------------------------------------------\u001b[0m",
      "\u001b[0;31mKeyboardInterrupt\u001b[0m                         Traceback (most recent call last)",
      "Cell \u001b[0;32mIn[8], line 1\u001b[0m\n\u001b[0;32m----> 1\u001b[0m \u001b[38;5;28;01mclass\u001b[39;00m \u001b[38;5;21;01mAccount\u001b[39;00m:    \u001b[38;5;66;03m#This is a class\u001b[39;00m\n\u001b[1;32m      2\u001b[0m     \u001b[38;5;28;01mdef\u001b[39;00m \u001b[38;5;21m__init__\u001b[39m(\u001b[38;5;28mself\u001b[39m,name\u001b[38;5;241m=\u001b[39m\u001b[38;5;28minput\u001b[39m(\u001b[38;5;124m\"\u001b[39m\u001b[38;5;124mEnter Your Name \u001b[39m\u001b[38;5;124m\"\u001b[39m),\n\u001b[1;32m      3\u001b[0m                 last_name\u001b[38;5;241m=\u001b[39m\u001b[38;5;28minput\u001b[39m(\u001b[38;5;124m\"\u001b[39m\u001b[38;5;124mEnter Your Last Name \u001b[39m\u001b[38;5;124m\"\u001b[39m),\n\u001b[1;32m      4\u001b[0m                 city\u001b[38;5;241m=\u001b[39m\u001b[38;5;28minput\u001b[39m(\u001b[38;5;124m\"\u001b[39m\u001b[38;5;124mEnter Your City Name \u001b[39m\u001b[38;5;124m\"\u001b[39m),\n\u001b[1;32m      5\u001b[0m                 user_id\u001b[38;5;241m=\u001b[39m\u001b[38;5;28minput\u001b[39m(\u001b[38;5;124m\"\u001b[39m\u001b[38;5;124mEnter Your User Id \u001b[39m\u001b[38;5;124m\"\u001b[39m),\n\u001b[1;32m      6\u001b[0m                 password\u001b[38;5;241m=\u001b[39m\u001b[38;5;28minput\u001b[39m(\u001b[38;5;124m\"\u001b[39m\u001b[38;5;124mEnter Your Password \u001b[39m\u001b[38;5;124m\"\u001b[39m),\n\u001b[1;32m      7\u001b[0m                 phone\u001b[38;5;241m=\u001b[39m\u001b[38;5;28minput\u001b[39m(\u001b[38;5;124m\"\u001b[39m\u001b[38;5;124mEnter Your Number \u001b[39m\u001b[38;5;124m\"\u001b[39m)):\n\u001b[1;32m      8\u001b[0m         \u001b[38;5;28mself\u001b[39m\u001b[38;5;241m.\u001b[39mname\u001b[38;5;241m=\u001b[39mname    \u001b[38;5;66;03m#Data Initialization\u001b[39;00m\n",
      "Cell \u001b[0;32mIn[8], line 2\u001b[0m, in \u001b[0;36mAccount\u001b[0;34m()\u001b[0m\n\u001b[1;32m      1\u001b[0m \u001b[38;5;28;01mclass\u001b[39;00m \u001b[38;5;21;01mAccount\u001b[39;00m:    \u001b[38;5;66;03m#This is a class\u001b[39;00m\n\u001b[0;32m----> 2\u001b[0m     \u001b[38;5;28;01mdef\u001b[39;00m \u001b[38;5;21m__init__\u001b[39m(\u001b[38;5;28mself\u001b[39m,name\u001b[38;5;241m=\u001b[39m\u001b[38;5;28;43minput\u001b[39;49m\u001b[43m(\u001b[49m\u001b[38;5;124;43m\"\u001b[39;49m\u001b[38;5;124;43mEnter Your Name \u001b[39;49m\u001b[38;5;124;43m\"\u001b[39;49m\u001b[43m)\u001b[49m,\n\u001b[1;32m      3\u001b[0m                 last_name\u001b[38;5;241m=\u001b[39m\u001b[38;5;28minput\u001b[39m(\u001b[38;5;124m\"\u001b[39m\u001b[38;5;124mEnter Your Last Name \u001b[39m\u001b[38;5;124m\"\u001b[39m),\n\u001b[1;32m      4\u001b[0m                 city\u001b[38;5;241m=\u001b[39m\u001b[38;5;28minput\u001b[39m(\u001b[38;5;124m\"\u001b[39m\u001b[38;5;124mEnter Your City Name \u001b[39m\u001b[38;5;124m\"\u001b[39m),\n\u001b[1;32m      5\u001b[0m                 user_id\u001b[38;5;241m=\u001b[39m\u001b[38;5;28minput\u001b[39m(\u001b[38;5;124m\"\u001b[39m\u001b[38;5;124mEnter Your User Id \u001b[39m\u001b[38;5;124m\"\u001b[39m),\n\u001b[1;32m      6\u001b[0m                 password\u001b[38;5;241m=\u001b[39m\u001b[38;5;28minput\u001b[39m(\u001b[38;5;124m\"\u001b[39m\u001b[38;5;124mEnter Your Password \u001b[39m\u001b[38;5;124m\"\u001b[39m),\n\u001b[1;32m      7\u001b[0m                 phone\u001b[38;5;241m=\u001b[39m\u001b[38;5;28minput\u001b[39m(\u001b[38;5;124m\"\u001b[39m\u001b[38;5;124mEnter Your Number \u001b[39m\u001b[38;5;124m\"\u001b[39m)):\n\u001b[1;32m      8\u001b[0m         \u001b[38;5;28mself\u001b[39m\u001b[38;5;241m.\u001b[39mname\u001b[38;5;241m=\u001b[39mname    \u001b[38;5;66;03m#Data Initialization\u001b[39;00m\n\u001b[1;32m      9\u001b[0m         \u001b[38;5;28mself\u001b[39m\u001b[38;5;241m.\u001b[39mlast_name\u001b[38;5;241m=\u001b[39mlast_name\n",
      "File \u001b[0;32m~/.local/lib/python3.10/site-packages/ipykernel/kernelbase.py:1261\u001b[0m, in \u001b[0;36mKernel.raw_input\u001b[0;34m(self, prompt)\u001b[0m\n\u001b[1;32m   1259\u001b[0m     msg \u001b[38;5;241m=\u001b[39m \u001b[38;5;124m\"\u001b[39m\u001b[38;5;124mraw_input was called, but this frontend does not support input requests.\u001b[39m\u001b[38;5;124m\"\u001b[39m\n\u001b[1;32m   1260\u001b[0m     \u001b[38;5;28;01mraise\u001b[39;00m StdinNotImplementedError(msg)\n\u001b[0;32m-> 1261\u001b[0m \u001b[38;5;28;01mreturn\u001b[39;00m \u001b[38;5;28;43mself\u001b[39;49m\u001b[38;5;241;43m.\u001b[39;49m\u001b[43m_input_request\u001b[49m\u001b[43m(\u001b[49m\n\u001b[1;32m   1262\u001b[0m \u001b[43m    \u001b[49m\u001b[38;5;28;43mstr\u001b[39;49m\u001b[43m(\u001b[49m\u001b[43mprompt\u001b[49m\u001b[43m)\u001b[49m\u001b[43m,\u001b[49m\n\u001b[1;32m   1263\u001b[0m \u001b[43m    \u001b[49m\u001b[38;5;28;43mself\u001b[39;49m\u001b[38;5;241;43m.\u001b[39;49m\u001b[43m_parent_ident\u001b[49m\u001b[43m[\u001b[49m\u001b[38;5;124;43m\"\u001b[39;49m\u001b[38;5;124;43mshell\u001b[39;49m\u001b[38;5;124;43m\"\u001b[39;49m\u001b[43m]\u001b[49m\u001b[43m,\u001b[49m\n\u001b[1;32m   1264\u001b[0m \u001b[43m    \u001b[49m\u001b[38;5;28;43mself\u001b[39;49m\u001b[38;5;241;43m.\u001b[39;49m\u001b[43mget_parent\u001b[49m\u001b[43m(\u001b[49m\u001b[38;5;124;43m\"\u001b[39;49m\u001b[38;5;124;43mshell\u001b[39;49m\u001b[38;5;124;43m\"\u001b[39;49m\u001b[43m)\u001b[49m\u001b[43m,\u001b[49m\n\u001b[1;32m   1265\u001b[0m \u001b[43m    \u001b[49m\u001b[43mpassword\u001b[49m\u001b[38;5;241;43m=\u001b[39;49m\u001b[38;5;28;43;01mFalse\u001b[39;49;00m\u001b[43m,\u001b[49m\n\u001b[1;32m   1266\u001b[0m \u001b[43m\u001b[49m\u001b[43m)\u001b[49m\n",
      "File \u001b[0;32m~/.local/lib/python3.10/site-packages/ipykernel/kernelbase.py:1304\u001b[0m, in \u001b[0;36mKernel._input_request\u001b[0;34m(self, prompt, ident, parent, password)\u001b[0m\n\u001b[1;32m   1301\u001b[0m \u001b[38;5;28;01mexcept\u001b[39;00m \u001b[38;5;167;01mKeyboardInterrupt\u001b[39;00m:\n\u001b[1;32m   1302\u001b[0m     \u001b[38;5;66;03m# re-raise KeyboardInterrupt, to truncate traceback\u001b[39;00m\n\u001b[1;32m   1303\u001b[0m     msg \u001b[38;5;241m=\u001b[39m \u001b[38;5;124m\"\u001b[39m\u001b[38;5;124mInterrupted by user\u001b[39m\u001b[38;5;124m\"\u001b[39m\n\u001b[0;32m-> 1304\u001b[0m     \u001b[38;5;28;01mraise\u001b[39;00m \u001b[38;5;167;01mKeyboardInterrupt\u001b[39;00m(msg) \u001b[38;5;28;01mfrom\u001b[39;00m \u001b[38;5;28;01mNone\u001b[39;00m\n\u001b[1;32m   1305\u001b[0m \u001b[38;5;28;01mexcept\u001b[39;00m \u001b[38;5;167;01mException\u001b[39;00m:\n\u001b[1;32m   1306\u001b[0m     \u001b[38;5;28mself\u001b[39m\u001b[38;5;241m.\u001b[39mlog\u001b[38;5;241m.\u001b[39mwarning(\u001b[38;5;124m\"\u001b[39m\u001b[38;5;124mInvalid Message:\u001b[39m\u001b[38;5;124m\"\u001b[39m, exc_info\u001b[38;5;241m=\u001b[39m\u001b[38;5;28;01mTrue\u001b[39;00m)\n",
      "\u001b[0;31mKeyboardInterrupt\u001b[0m: Interrupted by user"
     ]
    }
   ],
   "source": [
    "class Account:    #This is a class\n",
    "    def __init__(self,name=input(\"Enter Your Name \"),\n",
    "                last_name=input(\"Enter Your Last Name \"),\n",
    "                city=input(\"Enter Your City Name \"),\n",
    "                user_id=input(\"Enter Your User Id \"),\n",
    "                password=input(\"Enter Your Password \"),\n",
    "                phone=input(\"Enter Your Number \")):\n",
    "        self.name=name    #Data Initialization\n",
    "        self.last_name=last_name\n",
    "        self.city=city\n",
    "        self.user_id=user_id\n",
    "        self.password=password\n",
    "        self.phone=phone\n",
    "    def login(self):    #Method\n",
    "        while True:\n",
    "            signin=input(\"Enter Your User Id \")\n",
    "            password=input(\"Enter Your Pswword \")\n",
    "            if signin ==self.user_id and password==self.password:\n",
    "                print(\"Logged in Sucessfully\")\n",
    "                break\n",
    "            else:\n",
    "                print(\"You Entered Invalid id and password , Please Enter Correct  one\")\n",
    "                continue\n",
    "\n",
    "    \n",
    "    "
   ]
  },
  {
   "cell_type": "code",
   "execution_count": 12,
   "id": "8f168271",
   "metadata": {},
   "outputs": [],
   "source": [
    "c=Account()"
   ]
  },
  {
   "cell_type": "code",
   "execution_count": 13,
   "id": "53defb6f",
   "metadata": {},
   "outputs": [
    {
     "name": "stdout",
     "output_type": "stream",
     "text": [
      "Enter Your User Id1234saurav\n",
      "Enter Your Pswword12345\n",
      "Logged in Sucessfully\n"
     ]
    }
   ],
   "source": [
    "c.login()"
   ]
  },
  {
   "cell_type": "code",
   "execution_count": 14,
   "id": "67ac471f",
   "metadata": {},
   "outputs": [],
   "source": [
    "#Inheritance -Inheritance is a way of creating a new class from an existing class.\n",
    "#There are Three Types Of Inheritance - 1 -Single Inheritance , 2 -Multi Inheritance ,3-Multilevel Inheritance\n",
    "\n",
    "#Lets see with example how to inherits a class from existing class."
   ]
  },
  {
   "cell_type": "code",
   "execution_count": 63,
   "id": "89054d70",
   "metadata": {},
   "outputs": [],
   "source": [
    "class User_Account(Account):\n",
    "    def __init__(self,account_number,balance,*args):\n",
    "        super(User_Account,self).__init__(*args)\n",
    "        self.account_number=account_number\n",
    "        self.balance=balance\n",
    "            \n",
    "    def user_details(self):\n",
    "        while True:\n",
    "            account=int(input(\"Enter Your Account Number\"))\n",
    "            if account==self.account_number:\n",
    "                print(\"Name =\", self.name)\n",
    "                print(\"Account Number =\",self.account_number)\n",
    "                print(\"Balance =\",self.balance )\n",
    "                break\n",
    "            else:\n",
    "                print(\"Account Number is not valid\")\n",
    "                continue\n",
    "    def deposit(self):\n",
    "        print(\"Your Previous Balance is\",self.balance)\n",
    "        add_cash=int(input(\"Enter Ammount\"))\n",
    "        self.balance= self.balance+add_cash\n",
    "        print(\"Your account credit with\",add_cash, \"and now your balace is\" ,self.balance)\n",
    "    def transfer(self):\n",
    "        print(\"Your Previous Balance is\",self.balance)\n",
    "        withdrawl=int(input(\"Enter How much you want to withdraw\"))\n",
    "        if withdrawl<=self.balance:\n",
    "            self.balance-=withdrawl\n",
    "            print(\"The Withdraws ammount is\",self.account_number,\"and you left balance is \" ,self.balance)\n",
    "            \n",
    "        else:\n",
    "            print(\"Alert:Hello You Dont have sufficient Balance to withdra\")\n",
    "                \n",
    "            \n",
    "        \n",
    "            \n",
    "        "
   ]
  },
  {
   "cell_type": "code",
   "execution_count": 64,
   "id": "628cf5a8",
   "metadata": {},
   "outputs": [],
   "source": [
    "bank=User_Account(5555,0)"
   ]
  },
  {
   "cell_type": "code",
   "execution_count": 66,
   "id": "87428baf",
   "metadata": {},
   "outputs": [
    {
     "name": "stdout",
     "output_type": "stream",
     "text": [
      "Enter Your User Id1234saurav\n",
      "Enter Your Pswword12345\n",
      "Logged in Sucessfully\n"
     ]
    }
   ],
   "source": [
    "bank.login()"
   ]
  },
  {
   "cell_type": "code",
   "execution_count": 67,
   "id": "f71ec127",
   "metadata": {},
   "outputs": [
    {
     "name": "stdout",
     "output_type": "stream",
     "text": [
      "Enter Your Account Number8555\n",
      "Account Number is not valid\n",
      "Enter Your Account Number5555\n",
      "Name = Saurav\n",
      "Account Number = 5555\n",
      "Balance = 0\n"
     ]
    }
   ],
   "source": [
    "bank.user_details()"
   ]
  },
  {
   "cell_type": "code",
   "execution_count": 68,
   "id": "8e266e40",
   "metadata": {},
   "outputs": [
    {
     "name": "stdout",
     "output_type": "stream",
     "text": [
      "Your Previous Balance is 0\n",
      "Enter Ammount50000\n",
      "Your account credit with 50000 and now your balace is 50000\n"
     ]
    }
   ],
   "source": [
    "bank.deposit()"
   ]
  },
  {
   "cell_type": "code",
   "execution_count": 69,
   "id": "be2e2607",
   "metadata": {},
   "outputs": [
    {
     "name": "stdout",
     "output_type": "stream",
     "text": [
      "Your Previous Balance is 50000\n",
      "Enter How much you want to withdraw2500\n",
      "The Withdraws ammount is 5555 and you left balance is  47500\n"
     ]
    }
   ],
   "source": [
    "bank.transfer()"
   ]
  },
  {
   "cell_type": "code",
   "execution_count": 70,
   "id": "382797f6",
   "metadata": {},
   "outputs": [],
   "source": [
    "# Lets know one thing in previous example. a Account is a base class and User_Account is a\n",
    "#subclass or Superclass. which can inherits the data from base class using __init__ and (*args) method."
   ]
  },
  {
   "cell_type": "code",
   "execution_count": 71,
   "id": "46f708a5",
   "metadata": {},
   "outputs": [],
   "source": [
    "# Encapsulation - Encapsulation is an another powerful way to extend a class which consists\n",
    "# on wrapping object with second one.\n",
    "\n",
    "#Just like gmail,google photos,g drive and wrapped into one\n",
    "\n",
    "# The abstraction process relies on creating a simplified model that removes useless details from\n",
    "# a concept. In order to be simplified a model should be described in trems of other concepts, \n",
    "# for eaxmple - we can say that a car is composed be :-\n",
    "# Tyre\n",
    "# Engine\n",
    "# Body\n",
    "\n",
    "\n",
    "#And breakdown each one of these element in simpler parts untill we reach primitive data."
   ]
  },
  {
   "cell_type": "code",
   "execution_count": 92,
   "id": "acf0cc1c",
   "metadata": {},
   "outputs": [
    {
     "name": "stdout",
     "output_type": "stream",
     "text": [
      "Tyre \n",
      "\t Branch MRF\n",
      "\tBelted_bias True\n",
      "\topt_pressure 34\n",
      "  \n",
      "\t fuel type is  petrol\n",
      "\t noise leve is  2.3\n",
      "\n",
      "\t Body Size of car is sedan\n"
     ]
    }
   ],
   "source": [
    "class Tyres:\n",
    "    def __init__(self,branch,belted_bias,opt_pressure):\n",
    "        self.branch=branch\n",
    "        self.belted_bias=belted_bias\n",
    "        self.opt_pressure=opt_pressure\n",
    "    def __str__(self) :#__str__ can be used if you dont want to define a method name,but you want this to execute\n",
    "        return(\"Tyre \\n\\t Branch \"+self.branch+\n",
    "               \"\\n\\tBelted_bias \"+str(self.belted_bias)+\n",
    "               \"\\n\\topt_pressure \"+str(self.opt_pressure))\n",
    "class Engine:\n",
    "    def __init__(self,fuel_type,noise_level):\n",
    "        self.fuel_type=fuel_type\n",
    "        self.noise_level=noise_level\n",
    "    def __str__(self):\n",
    "        return(\"\\n\\t fuel type is  \"+self.fuel_type+\n",
    "              \"\\n\\t noise leve is  \"+str(self.noise_level))#__str__ method only returns only text so we are converting into string.\n",
    "class Body():\n",
    "    def __init__(self,size):\n",
    "        self.size=size\n",
    "    def __str__(self):\n",
    "        return(\"\\n\\t Body Size of car is \"+self.size)\n",
    "    \n",
    "class Car():\n",
    "    def __init__(self,Tyres,Engine,Body):\n",
    "        self.Tyres=Tyres\n",
    "        self.Engine=Engine\n",
    "        self.Body=Body\n",
    "    def __str__(self):\n",
    "        return   str(self.Tyres) +\"\\n  \"  + str(self.Engine) +\"\\n\" +  str(self.Body)\n",
    "t=Tyres(\"MRF\",True,34)\n",
    "e=Engine(\"petrol\",2.3)\n",
    "b=Body(\"sedan\")\n",
    "c=Car(t,e,b)\n",
    "print(c)"
   ]
  },
  {
   "cell_type": "code",
   "execution_count": 93,
   "id": "7e7bc504",
   "metadata": {},
   "outputs": [
    {
     "name": "stdout",
     "output_type": "stream",
     "text": [
      "Tyre \n",
      "\t Branch MRF\n",
      "\tBelted_bias True\n",
      "\topt_pressure 34\n",
      "  \n",
      "\t fuel type is  petrol\n",
      "\t noise leve is  2.3\n",
      "\n",
      "\t Body Size of car is sedan\n"
     ]
    }
   ],
   "source": [
    "print(c)"
   ]
  },
  {
   "cell_type": "code",
   "execution_count": 9,
   "id": "2ed4d349",
   "metadata": {},
   "outputs": [],
   "source": [
    "#AI/ML Engineer-Saurav\n",
    "#Date-7 may 2024\n",
    "#Time- 11:16\n"
   ]
  },
  {
   "cell_type": "code",
   "execution_count": null,
   "id": "a50de5b6-5513-4c4e-891d-4e1468c43a55",
   "metadata": {},
   "outputs": [],
   "source": []
  }
 ],
 "metadata": {
  "kernelspec": {
   "display_name": "Python 3 (ipykernel)",
   "language": "python",
   "name": "python3"
  },
  "language_info": {
   "codemirror_mode": {
    "name": "ipython",
    "version": 3
   },
   "file_extension": ".py",
   "mimetype": "text/x-python",
   "name": "python",
   "nbconvert_exporter": "python",
   "pygments_lexer": "ipython3",
   "version": "3.10.12"
  },
  "widgets": {
   "application/vnd.jupyter.widget-state+json": {
    "state": {},
    "version_major": 2,
    "version_minor": 0
   }
  }
 },
 "nbformat": 4,
 "nbformat_minor": 5
}
